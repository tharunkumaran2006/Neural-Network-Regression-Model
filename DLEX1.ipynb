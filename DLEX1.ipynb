{
  "cells": [
    {
      "cell_type": "code",
      "execution_count": 1,
      "metadata": {
        "id": "bAYgCDb3e5K3"
      },
      "outputs": [],
      "source": [
        "import torch\n",
        "import torch.nn as nn\n",
        "import torch.optim as optim\n",
        "import pandas as pd\n",
        "from sklearn.model_selection import train_test_split\n",
        "from sklearn.preprocessing import MinMaxScaler"
      ]
    },
    {
      "cell_type": "code",
      "execution_count": 27,
      "metadata": {
        "id": "6NZOGTGAhIph"
      },
      "outputs": [],
      "source": [
        "dataset1 = pd.read_csv('/deep123.csv')\n",
        "X = dataset1[['INPUT']].values\n",
        "y = dataset1[['OUTPUT']].values"
      ]
    },
    {
      "cell_type": "code",
      "execution_count": 28,
      "metadata": {
        "id": "GbdO-iunhn4k"
      },
      "outputs": [],
      "source": [
        "X_train, X_test, y_train, y_test = train_test_split(X, y, test_size=0.33, random_state=33)"
      ]
    },
    {
      "cell_type": "code",
      "execution_count": 29,
      "metadata": {
        "id": "BoOCFTgLh963"
      },
      "outputs": [],
      "source": [
        "scaler = MinMaxScaler()\n",
        "X_train = scaler.fit_transform(X_train)\n",
        "X_test = scaler.transform(X_test)"
      ]
    },
    {
      "cell_type": "code",
      "execution_count": 30,
      "metadata": {
        "id": "VF9C9SjriCpB"
      },
      "outputs": [],
      "source": [
        "X_train_tensor = torch.tensor(X_train, dtype=torch.float32)\n",
        "y_train_tensor = torch.tensor(y_train, dtype=torch.float32).view(-1, 1)\n",
        "X_test_tensor = torch.tensor(X_test, dtype=torch.float32)\n",
        "y_test_tensor = torch.tensor(y_test, dtype=torch.float32).view(-1, 1)"
      ]
    },
    {
      "cell_type": "code",
      "execution_count": 31,
      "metadata": {
        "id": "nHnF9r-LlP9v"
      },
      "outputs": [],
      "source": [
        "class NeuralNet(nn.Module):\n",
        "  def __init__(self):\n",
        "        super().__init__()\n",
        "        self.fc1 = nn.Linear(1, 12)\n",
        "        self.fc2 = nn.Linear(12, 10)\n",
        "        self.fc3 = nn.Linear(10,1)\n",
        "        self.relu = nn.ReLU()\n",
        "\n",
        "  def forward(self, x): # Define forward method inside the class\n",
        "    x = self.relu(self.fc1(x))\n",
        "    x = self.relu(self.fc2(x))\n",
        "    x = self.fc3(x)\n",
        "    return x"
      ]
    },
    {
      "cell_type": "code",
      "source": [
        "ai_brain = NeuralNet()\n",
        "criterion = nn.MSELoss()\n",
        "optimizer = optim.Adam(ai_brain.parameters(), lr=0.001)"
      ],
      "metadata": {
        "id": "m16xpkM0Z5pm"
      },
      "execution_count": 32,
      "outputs": []
    },
    {
      "cell_type": "code",
      "source": [
        "def train_model(ai_brain, X_train, y_train, criterion, optimizer, epochs=2000):\n",
        "    history = {'loss': []}  # Initialize history here\n",
        "    for epoch in range(epochs):\n",
        "        y_pred = ai_brain(X_train)\n",
        "        loss = criterion(y_pred, y_train)\n",
        "        optimizer.zero_grad()\n",
        "        loss.backward()\n",
        "        optimizer.step()\n",
        "        history['loss'].append(loss.item())\n",
        "        if epoch % 200 == 0:\n",
        "            print(f'Epoch [{epoch}/{epochs}], Loss: {loss.item():.6f}')\n",
        "    return history  # Return the history dictionary\n"
      ],
      "metadata": {
        "id": "17n0FkxqS5J-"
      },
      "execution_count": 33,
      "outputs": []
    },
    {
      "cell_type": "code",
      "execution_count": 34,
      "metadata": {
        "colab": {
          "base_uri": "https://localhost:8080/"
        },
        "id": "R1CBY_aLmJ0p",
        "outputId": "fdf5fd64-67ed-43b9-e742-6d7b29694fc0"
      },
      "outputs": [
        {
          "output_type": "stream",
          "name": "stdout",
          "text": [
            "Test Loss: 3037.071777\n"
          ]
        }
      ],
      "source": [
        "with torch.no_grad():\n",
        "    test_loss = criterion(ai_brain(X_test_tensor), y_test_tensor)\n",
        "    print(f'Test Loss: {test_loss.item():.6f}')"
      ]
    },
    {
      "cell_type": "code",
      "source": [
        "history = train_model(ai_brain, X_train_tensor, y_train_tensor, criterion, optimizer)"
      ],
      "metadata": {
        "id": "vD0d0Rygbpbl",
        "outputId": "33b704a2-a59b-491a-9a08-b5cb17a7f8a2",
        "colab": {
          "base_uri": "https://localhost:8080/"
        }
      },
      "execution_count": 35,
      "outputs": [
        {
          "output_type": "stream",
          "name": "stdout",
          "text": [
            "Epoch [0/2000], Loss: 2299.673584\n",
            "Epoch [200/2000], Loss: 2161.184570\n",
            "Epoch [400/2000], Loss: 1448.302246\n",
            "Epoch [600/2000], Loss: 399.372253\n",
            "Epoch [800/2000], Loss: 190.064789\n",
            "Epoch [1000/2000], Loss: 121.469398\n",
            "Epoch [1200/2000], Loss: 62.399693\n",
            "Epoch [1400/2000], Loss: 23.273684\n",
            "Epoch [1600/2000], Loss: 6.700897\n",
            "Epoch [1800/2000], Loss: 1.509658\n"
          ]
        }
      ]
    },
    {
      "cell_type": "code",
      "source": [
        "loss_df = pd.DataFrame(history)\n"
      ],
      "metadata": {
        "id": "HnBL-aGaTCXH"
      },
      "execution_count": 36,
      "outputs": []
    },
    {
      "cell_type": "code",
      "source": [
        "import matplotlib.pyplot as plt\n",
        "loss_df.plot()\n",
        "plt.xlabel(\"Epochs\")\n",
        "plt.ylabel(\"Loss\")\n",
        "plt.title(\"Loss during Training\")\n",
        "plt.show()"
      ],
      "metadata": {
        "colab": {
          "base_uri": "https://localhost:8080/",
          "height": 472
        },
        "id": "oP-ER1pJTGuu",
        "outputId": "c88ce4d5-6e4f-4d37-9f38-f3cab4383390"
      },
      "execution_count": 37,
      "outputs": [
        {
          "output_type": "display_data",
          "data": {
            "text/plain": [
              "<Figure size 640x480 with 1 Axes>"
            ],
            "image/png": "[encoded data removed]"
          },
          "metadata": {}
        }
      ]
    },
    {
      "cell_type": "code",
      "source": [
        "X_n1_1 = torch.tensor([[9]], dtype=torch.float32)\n",
        "prediction = ai_brain(torch.tensor(scaler.transform(X_n1_1), dtype=torch.float32)).item()\n",
        "print(f'Prediction: {prediction}')"
      ],
      "metadata": {
        "id": "ZhaJ0ATKTKBU",
        "outputId": "073634fc-1809-47eb-eb0a-b119fd56c7c4",
        "colab": {
          "base_uri": "https://localhost:8080/"
        }
      },
      "execution_count": 38,
      "outputs": [
        {
          "output_type": "stream",
          "name": "stdout",
          "text": [
            "Prediction: 21.31375503540039\n"
          ]
        }
      ]
    }
  ],
  "metadata": {
    "colab": {
      "provenance": []
    },
    "kernelspec": {
      "display_name": "Python 3",
      "name": "python3"
    },
    "language_info": {
      "name": "python"
    }
  },
  "nbformat": 4,
  "nbformat_minor": 0
}